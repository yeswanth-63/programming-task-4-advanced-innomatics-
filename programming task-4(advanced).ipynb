{
 "cells": [
  {
   "cell_type": "markdown",
   "id": "63644be1",
   "metadata": {},
   "source": [
    "# Q1.Single Number"
   ]
  },
  {
   "cell_type": "code",
   "execution_count": null,
   "id": "db36ec90",
   "metadata": {},
   "outputs": [],
   "source": [
    "class Solution:\n",
    "    def singleNumber(self, nums: List[int]) -> int:\n",
    "        d={}\n",
    "        for ele in nums:\n",
    "            if d.get(ele):\n",
    "                d[ele]+=1\n",
    "            else:\n",
    "                d[ele]=1\n",
    "        for ele in d:\n",
    "            if d[ele]==1:\n",
    "                return ele"
   ]
  },
  {
   "cell_type": "markdown",
   "id": "cff66520",
   "metadata": {},
   "source": [
    "# Q2.Sort Integers by The Number of 1 Bits"
   ]
  },
  {
   "cell_type": "code",
   "execution_count": null,
   "id": "4357dd42",
   "metadata": {},
   "outputs": [],
   "source": [
    "class Solution:\n",
    "    def sortByBits(self, arr: List[int]) -> List[int]:\n",
    "        li=[]\n",
    "        for ele in arr:\n",
    "            j=ele\n",
    "            count=0\n",
    "            li1=[]\n",
    "            while ele>=1:\n",
    "                if ele%2!=0:\n",
    "                    count+=1\n",
    "                ele=ele//2\n",
    "            li1.append(count)\n",
    "            li1.append(j)\n",
    "            li.append(li1)\n",
    "        li.sort()\n",
    "        li2=[]\n",
    "        for ele in li:\n",
    "            li2.append(ele[1])\n",
    "        return li2\n",
    "            \n",
    "\n",
    "        "
   ]
  },
  {
   "cell_type": "markdown",
   "id": "e4b54a69",
   "metadata": {},
   "source": [
    "# Q3.Single Number III"
   ]
  },
  {
   "cell_type": "code",
   "execution_count": null,
   "id": "35b2f6a6",
   "metadata": {},
   "outputs": [],
   "source": [
    "class Solution:\n",
    "    def singleNumber(self, nums: List[int]) -> List[int]:\n",
    "        d={}\n",
    "        li=[]\n",
    "        for ele in nums:\n",
    "            if d.get(ele):\n",
    "                d[ele]+=1\n",
    "            else:\n",
    "                d[ele]=1\n",
    "        for ele in d:\n",
    "            if d[ele]==1:\n",
    "                li.append(ele)\n",
    "        return li"
   ]
  },
  {
   "cell_type": "markdown",
   "id": "326e5981",
   "metadata": {},
   "source": [
    "# Q4.Subsets"
   ]
  },
  {
   "cell_type": "code",
   "execution_count": null,
   "id": "eca03492",
   "metadata": {},
   "outputs": [],
   "source": [
    "class Solution:\n",
    "    def subsets(self, nums: List[int]) -> List[List[int]]:\n",
    "        n=len(nums)\n",
    "        ans=[]\n",
    "        def solve(idx,lst):\n",
    "            if idx>=n:\n",
    "                ans.append(lst)\n",
    "                return \n",
    "            solve(idx+1,lst)                   \n",
    "            solve(idx+1,lst+[nums[idx]])        \n",
    "        solve(0,[])\n",
    "        return ans"
   ]
  }
 ],
 "metadata": {
  "kernelspec": {
   "display_name": "Python 3 (ipykernel)",
   "language": "python",
   "name": "python3"
  },
  "language_info": {
   "codemirror_mode": {
    "name": "ipython",
    "version": 3
   },
   "file_extension": ".py",
   "mimetype": "text/x-python",
   "name": "python",
   "nbconvert_exporter": "python",
   "pygments_lexer": "ipython3",
   "version": "3.9.13"
  }
 },
 "nbformat": 4,
 "nbformat_minor": 5
}
